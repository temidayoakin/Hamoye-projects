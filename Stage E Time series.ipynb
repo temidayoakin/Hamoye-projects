{
 "cells": [
  {
   "cell_type": "code",
   "execution_count": 1,
   "id": "0499fbc2",
   "metadata": {},
   "outputs": [
    {
     "name": "stderr",
     "output_type": "stream",
     "text": [
      "C:\\Users\\AKINDILENI DAYO\\anaconda3\\lib\\site-packages\\scipy\\__init__.py:146: UserWarning: A NumPy version >=1.16.5 and <1.23.0 is required for this version of SciPy (detected version 1.23.3\n",
      "  warnings.warn(f\"A NumPy version >={np_minversion} and <{np_maxversion}\"\n",
      "Importing plotly failed. Interactive plots will not work.\n"
     ]
    }
   ],
   "source": [
    "import pandas as pd\n",
    "import numpy as np\n",
    "import matplotlib.pyplot as plt\n",
    "from statsmodels.tsa.stattools import adfuller\n",
    "from prophet import Prophet\n",
    "from sklearn import metrics"
   ]
  },
  {
   "cell_type": "code",
   "execution_count": 2,
   "id": "e37ff851",
   "metadata": {},
   "outputs": [
    {
     "data": {
      "text/html": [
       "<div>\n",
       "<style scoped>\n",
       "    .dataframe tbody tr th:only-of-type {\n",
       "        vertical-align: middle;\n",
       "    }\n",
       "\n",
       "    .dataframe tbody tr th {\n",
       "        vertical-align: top;\n",
       "    }\n",
       "\n",
       "    .dataframe thead th {\n",
       "        text-align: right;\n",
       "    }\n",
       "</style>\n",
       "<table border=\"1\" class=\"dataframe\">\n",
       "  <thead>\n",
       "    <tr style=\"text-align: right;\">\n",
       "      <th></th>\n",
       "      <th>FullDate</th>\n",
       "      <th>Tmax</th>\n",
       "      <th>SysLoad</th>\n",
       "      <th>GasPrice</th>\n",
       "      <th>ElecPrice</th>\n",
       "    </tr>\n",
       "  </thead>\n",
       "  <tbody>\n",
       "    <tr>\n",
       "      <th>0</th>\n",
       "      <td>2010-09-01 00:00:00</td>\n",
       "      <td>15.8</td>\n",
       "      <td>1688.215</td>\n",
       "      <td>3.69</td>\n",
       "      <td>23.710</td>\n",
       "    </tr>\n",
       "    <tr>\n",
       "      <th>1</th>\n",
       "      <td>2010-09-01 01:00:00</td>\n",
       "      <td>15.8</td>\n",
       "      <td>1669.195</td>\n",
       "      <td>3.69</td>\n",
       "      <td>22.635</td>\n",
       "    </tr>\n",
       "    <tr>\n",
       "      <th>2</th>\n",
       "      <td>2010-09-01 02:00:00</td>\n",
       "      <td>15.8</td>\n",
       "      <td>1491.980</td>\n",
       "      <td>3.69</td>\n",
       "      <td>22.565</td>\n",
       "    </tr>\n",
       "    <tr>\n",
       "      <th>3</th>\n",
       "      <td>2010-09-01 03:00:00</td>\n",
       "      <td>15.8</td>\n",
       "      <td>1330.760</td>\n",
       "      <td>3.69</td>\n",
       "      <td>18.910</td>\n",
       "    </tr>\n",
       "    <tr>\n",
       "      <th>4</th>\n",
       "      <td>2010-09-01 04:00:00</td>\n",
       "      <td>15.8</td>\n",
       "      <td>1247.940</td>\n",
       "      <td>3.69</td>\n",
       "      <td>18.030</td>\n",
       "    </tr>\n",
       "  </tbody>\n",
       "</table>\n",
       "</div>"
      ],
      "text/plain": [
       "              FullDate  Tmax   SysLoad  GasPrice  ElecPrice\n",
       "0  2010-09-01 00:00:00  15.8  1688.215      3.69     23.710\n",
       "1  2010-09-01 01:00:00  15.8  1669.195      3.69     22.635\n",
       "2  2010-09-01 02:00:00  15.8  1491.980      3.69     22.565\n",
       "3  2010-09-01 03:00:00  15.8  1330.760      3.69     18.910\n",
       "4  2010-09-01 04:00:00  15.8  1247.940      3.69     18.030"
      ]
     },
     "execution_count": 2,
     "metadata": {},
     "output_type": "execute_result"
    }
   ],
   "source": [
    "data = pd.read_csv(\"https://github.com/HamoyeHQ/HDSC-Time-series-analysis-and-forecast/files/7768846/Time_series_analysis_and_forecast_DATASET.csv\")\n",
    "data.head()"
   ]
  },
  {
   "cell_type": "code",
   "execution_count": 3,
   "id": "ab206b51",
   "metadata": {},
   "outputs": [
    {
     "data": {
      "text/plain": [
       "(92016, 5)"
      ]
     },
     "execution_count": 3,
     "metadata": {},
     "output_type": "execute_result"
    }
   ],
   "source": [
    "data.shape"
   ]
  },
  {
   "cell_type": "code",
   "execution_count": 4,
   "id": "90fb6fb8",
   "metadata": {},
   "outputs": [
    {
     "name": "stdout",
     "output_type": "stream",
     "text": [
      "<class 'pandas.core.frame.DataFrame'>\n",
      "RangeIndex: 92016 entries, 0 to 92015\n",
      "Data columns (total 5 columns):\n",
      " #   Column     Non-Null Count  Dtype  \n",
      "---  ------     --------------  -----  \n",
      " 0   FullDate   92016 non-null  object \n",
      " 1   Tmax       92016 non-null  float64\n",
      " 2   SysLoad    92016 non-null  float64\n",
      " 3   GasPrice   92016 non-null  float64\n",
      " 4   ElecPrice  92016 non-null  float64\n",
      "dtypes: float64(4), object(1)\n",
      "memory usage: 3.5+ MB\n"
     ]
    }
   ],
   "source": [
    "data.info()"
   ]
  },
  {
   "cell_type": "code",
   "execution_count": 5,
   "id": "ee6d00e9",
   "metadata": {},
   "outputs": [
    {
     "data": {
      "text/plain": [
       "FullDate     0\n",
       "Tmax         0\n",
       "SysLoad      0\n",
       "GasPrice     0\n",
       "ElecPrice    0\n",
       "dtype: int64"
      ]
     },
     "execution_count": 5,
     "metadata": {},
     "output_type": "execute_result"
    }
   ],
   "source": [
    "data.isna().sum()"
   ]
  },
  {
   "cell_type": "code",
   "execution_count": 6,
   "id": "7af41f9d",
   "metadata": {},
   "outputs": [
    {
     "data": {
      "text/plain": [
       "0"
      ]
     },
     "execution_count": 6,
     "metadata": {},
     "output_type": "execute_result"
    }
   ],
   "source": [
    "data.duplicated().values.sum()"
   ]
  },
  {
   "cell_type": "code",
   "execution_count": 7,
   "id": "923b0400",
   "metadata": {},
   "outputs": [
    {
     "data": {
      "text/html": [
       "<div>\n",
       "<style scoped>\n",
       "    .dataframe tbody tr th:only-of-type {\n",
       "        vertical-align: middle;\n",
       "    }\n",
       "\n",
       "    .dataframe tbody tr th {\n",
       "        vertical-align: top;\n",
       "    }\n",
       "\n",
       "    .dataframe thead th {\n",
       "        text-align: right;\n",
       "    }\n",
       "</style>\n",
       "<table border=\"1\" class=\"dataframe\">\n",
       "  <thead>\n",
       "    <tr style=\"text-align: right;\">\n",
       "      <th></th>\n",
       "      <th>Tmax</th>\n",
       "      <th>SysLoad</th>\n",
       "      <th>GasPrice</th>\n",
       "      <th>ElecPrice</th>\n",
       "    </tr>\n",
       "  </thead>\n",
       "  <tbody>\n",
       "    <tr>\n",
       "      <th>count</th>\n",
       "      <td>92016.000000</td>\n",
       "      <td>92016.000000</td>\n",
       "      <td>92016.000000</td>\n",
       "      <td>92016.000000</td>\n",
       "    </tr>\n",
       "    <tr>\n",
       "      <th>mean</th>\n",
       "      <td>231.696688</td>\n",
       "      <td>797.623357</td>\n",
       "      <td>6.016163</td>\n",
       "      <td>65.798356</td>\n",
       "    </tr>\n",
       "    <tr>\n",
       "      <th>std</th>\n",
       "      <td>4562.128748</td>\n",
       "      <td>613.520156</td>\n",
       "      <td>2.608116</td>\n",
       "      <td>213.144084</td>\n",
       "    </tr>\n",
       "    <tr>\n",
       "      <th>min</th>\n",
       "      <td>9.900000</td>\n",
       "      <td>-1596.810100</td>\n",
       "      <td>0.000000</td>\n",
       "      <td>-924.820000</td>\n",
       "    </tr>\n",
       "    <tr>\n",
       "      <th>25%</th>\n",
       "      <td>17.300000</td>\n",
       "      <td>417.119800</td>\n",
       "      <td>3.936900</td>\n",
       "      <td>31.543750</td>\n",
       "    </tr>\n",
       "    <tr>\n",
       "      <th>50%</th>\n",
       "      <td>21.900000</td>\n",
       "      <td>856.467925</td>\n",
       "      <td>5.165600</td>\n",
       "      <td>48.715000</td>\n",
       "    </tr>\n",
       "    <tr>\n",
       "      <th>75%</th>\n",
       "      <td>27.600000</td>\n",
       "      <td>1221.293675</td>\n",
       "      <td>8.023300</td>\n",
       "      <td>76.495000</td>\n",
       "    </tr>\n",
       "    <tr>\n",
       "      <th>max</th>\n",
       "      <td>99999.900000</td>\n",
       "      <td>3264.166300</td>\n",
       "      <td>29.990000</td>\n",
       "      <td>14700.000000</td>\n",
       "    </tr>\n",
       "  </tbody>\n",
       "</table>\n",
       "</div>"
      ],
      "text/plain": [
       "               Tmax       SysLoad      GasPrice     ElecPrice\n",
       "count  92016.000000  92016.000000  92016.000000  92016.000000\n",
       "mean     231.696688    797.623357      6.016163     65.798356\n",
       "std     4562.128748    613.520156      2.608116    213.144084\n",
       "min        9.900000  -1596.810100      0.000000   -924.820000\n",
       "25%       17.300000    417.119800      3.936900     31.543750\n",
       "50%       21.900000    856.467925      5.165600     48.715000\n",
       "75%       27.600000   1221.293675      8.023300     76.495000\n",
       "max    99999.900000   3264.166300     29.990000  14700.000000"
      ]
     },
     "execution_count": 7,
     "metadata": {},
     "output_type": "execute_result"
    }
   ],
   "source": [
    "data.describe()"
   ]
  },
  {
   "cell_type": "code",
   "execution_count": 8,
   "id": "15c20fa3",
   "metadata": {},
   "outputs": [],
   "source": [
    "# change Fulltime from object to datetime\n",
    "data[\"FullDate\"] = pd.to_datetime(data[\"FullDate\"])"
   ]
  },
  {
   "cell_type": "code",
   "execution_count": 9,
   "id": "27af2dd5",
   "metadata": {},
   "outputs": [
    {
     "name": "stdout",
     "output_type": "stream",
     "text": [
      "<class 'pandas.core.frame.DataFrame'>\n",
      "RangeIndex: 92016 entries, 0 to 92015\n",
      "Data columns (total 5 columns):\n",
      " #   Column     Non-Null Count  Dtype         \n",
      "---  ------     --------------  -----         \n",
      " 0   FullDate   92016 non-null  datetime64[ns]\n",
      " 1   Tmax       92016 non-null  float64       \n",
      " 2   SysLoad    92016 non-null  float64       \n",
      " 3   GasPrice   92016 non-null  float64       \n",
      " 4   ElecPrice  92016 non-null  float64       \n",
      "dtypes: datetime64[ns](1), float64(4)\n",
      "memory usage: 3.5 MB\n"
     ]
    }
   ],
   "source": [
    "data.info()"
   ]
  },
  {
   "cell_type": "code",
   "execution_count": 10,
   "id": "19795e13",
   "metadata": {},
   "outputs": [],
   "source": [
    "# Make FullDate as index\n",
    "data.set_index(\"FullDate\", inplace=True)"
   ]
  },
  {
   "cell_type": "code",
   "execution_count": 11,
   "id": "cdba26a6",
   "metadata": {},
   "outputs": [
    {
     "data": {
      "text/html": [
       "<div>\n",
       "<style scoped>\n",
       "    .dataframe tbody tr th:only-of-type {\n",
       "        vertical-align: middle;\n",
       "    }\n",
       "\n",
       "    .dataframe tbody tr th {\n",
       "        vertical-align: top;\n",
       "    }\n",
       "\n",
       "    .dataframe thead th {\n",
       "        text-align: right;\n",
       "    }\n",
       "</style>\n",
       "<table border=\"1\" class=\"dataframe\">\n",
       "  <thead>\n",
       "    <tr style=\"text-align: right;\">\n",
       "      <th></th>\n",
       "      <th>Tmax</th>\n",
       "      <th>SysLoad</th>\n",
       "      <th>GasPrice</th>\n",
       "      <th>ElecPrice</th>\n",
       "    </tr>\n",
       "    <tr>\n",
       "      <th>FullDate</th>\n",
       "      <th></th>\n",
       "      <th></th>\n",
       "      <th></th>\n",
       "      <th></th>\n",
       "    </tr>\n",
       "  </thead>\n",
       "  <tbody>\n",
       "    <tr>\n",
       "      <th>2010-09-01 00:00:00</th>\n",
       "      <td>15.8</td>\n",
       "      <td>1688.215</td>\n",
       "      <td>3.69</td>\n",
       "      <td>23.710</td>\n",
       "    </tr>\n",
       "    <tr>\n",
       "      <th>2010-09-01 01:00:00</th>\n",
       "      <td>15.8</td>\n",
       "      <td>1669.195</td>\n",
       "      <td>3.69</td>\n",
       "      <td>22.635</td>\n",
       "    </tr>\n",
       "    <tr>\n",
       "      <th>2010-09-01 02:00:00</th>\n",
       "      <td>15.8</td>\n",
       "      <td>1491.980</td>\n",
       "      <td>3.69</td>\n",
       "      <td>22.565</td>\n",
       "    </tr>\n",
       "    <tr>\n",
       "      <th>2010-09-01 03:00:00</th>\n",
       "      <td>15.8</td>\n",
       "      <td>1330.760</td>\n",
       "      <td>3.69</td>\n",
       "      <td>18.910</td>\n",
       "    </tr>\n",
       "    <tr>\n",
       "      <th>2010-09-01 04:00:00</th>\n",
       "      <td>15.8</td>\n",
       "      <td>1247.940</td>\n",
       "      <td>3.69</td>\n",
       "      <td>18.030</td>\n",
       "    </tr>\n",
       "  </tbody>\n",
       "</table>\n",
       "</div>"
      ],
      "text/plain": [
       "                     Tmax   SysLoad  GasPrice  ElecPrice\n",
       "FullDate                                                \n",
       "2010-09-01 00:00:00  15.8  1688.215      3.69     23.710\n",
       "2010-09-01 01:00:00  15.8  1669.195      3.69     22.635\n",
       "2010-09-01 02:00:00  15.8  1491.980      3.69     22.565\n",
       "2010-09-01 03:00:00  15.8  1330.760      3.69     18.910\n",
       "2010-09-01 04:00:00  15.8  1247.940      3.69     18.030"
      ]
     },
     "execution_count": 11,
     "metadata": {},
     "output_type": "execute_result"
    }
   ],
   "source": [
    "data.head()"
   ]
  },
  {
   "cell_type": "code",
   "execution_count": 12,
   "id": "e5a7c304",
   "metadata": {},
   "outputs": [],
   "source": [
    "data_copy = data.copy()"
   ]
  },
  {
   "cell_type": "code",
   "execution_count": 13,
   "id": "061b5e85",
   "metadata": {},
   "outputs": [
    {
     "data": {
      "text/html": [
       "<div>\n",
       "<style scoped>\n",
       "    .dataframe tbody tr th:only-of-type {\n",
       "        vertical-align: middle;\n",
       "    }\n",
       "\n",
       "    .dataframe tbody tr th {\n",
       "        vertical-align: top;\n",
       "    }\n",
       "\n",
       "    .dataframe thead th {\n",
       "        text-align: right;\n",
       "    }\n",
       "</style>\n",
       "<table border=\"1\" class=\"dataframe\">\n",
       "  <thead>\n",
       "    <tr style=\"text-align: right;\">\n",
       "      <th></th>\n",
       "      <th>ElecPrice</th>\n",
       "    </tr>\n",
       "    <tr>\n",
       "      <th>FullDate</th>\n",
       "      <th></th>\n",
       "    </tr>\n",
       "  </thead>\n",
       "  <tbody>\n",
       "    <tr>\n",
       "      <th>2010-09-01 00:00:00</th>\n",
       "      <td>23.710</td>\n",
       "    </tr>\n",
       "    <tr>\n",
       "      <th>2010-09-01 01:00:00</th>\n",
       "      <td>22.635</td>\n",
       "    </tr>\n",
       "    <tr>\n",
       "      <th>2010-09-01 02:00:00</th>\n",
       "      <td>22.565</td>\n",
       "    </tr>\n",
       "    <tr>\n",
       "      <th>2010-09-01 03:00:00</th>\n",
       "      <td>18.910</td>\n",
       "    </tr>\n",
       "    <tr>\n",
       "      <th>2010-09-01 04:00:00</th>\n",
       "      <td>18.030</td>\n",
       "    </tr>\n",
       "  </tbody>\n",
       "</table>\n",
       "</div>"
      ],
      "text/plain": [
       "                     ElecPrice\n",
       "FullDate                      \n",
       "2010-09-01 00:00:00     23.710\n",
       "2010-09-01 01:00:00     22.635\n",
       "2010-09-01 02:00:00     22.565\n",
       "2010-09-01 03:00:00     18.910\n",
       "2010-09-01 04:00:00     18.030"
      ]
     },
     "execution_count": 13,
     "metadata": {},
     "output_type": "execute_result"
    }
   ],
   "source": [
    "data_copy1 = data_copy.drop(columns=[\"Tmax\", \"SysLoad\", \"GasPrice\"])\n",
    "data_copy1.head()"
   ]
  },
  {
   "cell_type": "code",
   "execution_count": 14,
   "id": "a99dde44",
   "metadata": {},
   "outputs": [
    {
     "data": {
      "text/html": [
       "<div>\n",
       "<style scoped>\n",
       "    .dataframe tbody tr th:only-of-type {\n",
       "        vertical-align: middle;\n",
       "    }\n",
       "\n",
       "    .dataframe tbody tr th {\n",
       "        vertical-align: top;\n",
       "    }\n",
       "\n",
       "    .dataframe thead th {\n",
       "        text-align: right;\n",
       "    }\n",
       "</style>\n",
       "<table border=\"1\" class=\"dataframe\">\n",
       "  <thead>\n",
       "    <tr style=\"text-align: right;\">\n",
       "      <th></th>\n",
       "      <th>Tmax</th>\n",
       "      <th>SysLoad</th>\n",
       "      <th>GasPrice</th>\n",
       "      <th>ElecPrice</th>\n",
       "    </tr>\n",
       "    <tr>\n",
       "      <th>FullDate</th>\n",
       "      <th></th>\n",
       "      <th></th>\n",
       "      <th></th>\n",
       "      <th></th>\n",
       "    </tr>\n",
       "  </thead>\n",
       "  <tbody>\n",
       "    <tr>\n",
       "      <th>2010-09-01</th>\n",
       "      <td>379.2</td>\n",
       "      <td>41565.38000</td>\n",
       "      <td>88.5600</td>\n",
       "      <td>2751.700</td>\n",
       "    </tr>\n",
       "    <tr>\n",
       "      <th>2010-09-02</th>\n",
       "      <td>369.6</td>\n",
       "      <td>38898.99000</td>\n",
       "      <td>88.5600</td>\n",
       "      <td>570.810</td>\n",
       "    </tr>\n",
       "    <tr>\n",
       "      <th>2010-09-03</th>\n",
       "      <td>439.2</td>\n",
       "      <td>41665.76000</td>\n",
       "      <td>106.8000</td>\n",
       "      <td>504.975</td>\n",
       "    </tr>\n",
       "    <tr>\n",
       "      <th>2010-09-04</th>\n",
       "      <td>328.8</td>\n",
       "      <td>35638.08500</td>\n",
       "      <td>81.3600</td>\n",
       "      <td>502.275</td>\n",
       "    </tr>\n",
       "    <tr>\n",
       "      <th>2010-09-05</th>\n",
       "      <td>357.6</td>\n",
       "      <td>35611.41000</td>\n",
       "      <td>106.8000</td>\n",
       "      <td>500.555</td>\n",
       "    </tr>\n",
       "    <tr>\n",
       "      <th>...</th>\n",
       "      <td>...</td>\n",
       "      <td>...</td>\n",
       "      <td>...</td>\n",
       "      <td>...</td>\n",
       "    </tr>\n",
       "    <tr>\n",
       "      <th>2021-02-24</th>\n",
       "      <td>537.6</td>\n",
       "      <td>-1525.49745</td>\n",
       "      <td>134.4000</td>\n",
       "      <td>634.770</td>\n",
       "    </tr>\n",
       "    <tr>\n",
       "      <th>2021-02-25</th>\n",
       "      <td>518.4</td>\n",
       "      <td>4539.07855</td>\n",
       "      <td>130.5048</td>\n",
       "      <td>577.515</td>\n",
       "    </tr>\n",
       "    <tr>\n",
       "      <th>2021-02-26</th>\n",
       "      <td>547.2</td>\n",
       "      <td>9517.02430</td>\n",
       "      <td>130.1808</td>\n",
       "      <td>1445.495</td>\n",
       "    </tr>\n",
       "    <tr>\n",
       "      <th>2021-02-27</th>\n",
       "      <td>564.0</td>\n",
       "      <td>4932.88015</td>\n",
       "      <td>130.0800</td>\n",
       "      <td>488.980</td>\n",
       "    </tr>\n",
       "    <tr>\n",
       "      <th>2021-02-28</th>\n",
       "      <td>583.2</td>\n",
       "      <td>6675.05485</td>\n",
       "      <td>131.6352</td>\n",
       "      <td>-98.985</td>\n",
       "    </tr>\n",
       "  </tbody>\n",
       "</table>\n",
       "<p>3834 rows × 4 columns</p>\n",
       "</div>"
      ],
      "text/plain": [
       "             Tmax      SysLoad  GasPrice  ElecPrice\n",
       "FullDate                                           \n",
       "2010-09-01  379.2  41565.38000   88.5600   2751.700\n",
       "2010-09-02  369.6  38898.99000   88.5600    570.810\n",
       "2010-09-03  439.2  41665.76000  106.8000    504.975\n",
       "2010-09-04  328.8  35638.08500   81.3600    502.275\n",
       "2010-09-05  357.6  35611.41000  106.8000    500.555\n",
       "...           ...          ...       ...        ...\n",
       "2021-02-24  537.6  -1525.49745  134.4000    634.770\n",
       "2021-02-25  518.4   4539.07855  130.5048    577.515\n",
       "2021-02-26  547.2   9517.02430  130.1808   1445.495\n",
       "2021-02-27  564.0   4932.88015  130.0800    488.980\n",
       "2021-02-28  583.2   6675.05485  131.6352    -98.985\n",
       "\n",
       "[3834 rows x 4 columns]"
      ]
     },
     "execution_count": 14,
     "metadata": {},
     "output_type": "execute_result"
    }
   ],
   "source": [
    "daily_df = data_copy.resample('D').sum()\n",
    "daily_df"
   ]
  },
  {
   "cell_type": "code",
   "execution_count": 15,
   "id": "fb6de13d",
   "metadata": {
    "scrolled": false
   },
   "outputs": [
    {
     "data": {
      "text/plain": [
       "Text(0, 0.5, 'Electric Price')"
      ]
     },
     "execution_count": 15,
     "metadata": {},
     "output_type": "execute_result"
    },
    {
     "data": {
      "image/png": "[encoded data removed]",
      "text/plain": [
       "<Figure size 1152x432 with 1 Axes>"
      ]
     },
     "metadata": {
      "needs_background": "light"
     },
     "output_type": "display_data"
    }
   ],
   "source": [
    "plt.figure(figsize=(16,6))\n",
    "plt.plot(daily_df.index, daily_df['ElecPrice'],'--',marker='*')\n",
    "plt.grid()\n",
    "plt.xlabel('Year')\n",
    "plt.ylabel('Electric Price')"
   ]
  },
  {
   "cell_type": "markdown",
   "id": "90ec5fa6",
   "metadata": {},
   "source": [
    "# Q12"
   ]
  },
  {
   "cell_type": "code",
   "execution_count": 16,
   "id": "0f9ab2e3",
   "metadata": {},
   "outputs": [],
   "source": [
    "# Display the information of ADF test\n",
    "def show_adfuller(adfull):\n",
    "    print(f'ADF Statistic: {adfull[0]}')\n",
    "    print(f'p-value: {adfull[1]}')\n",
    "    print(f'No. of lags used: {adfull[2]}')\n",
    "    print(f'No. of observations used : {adfull[3]}')\n",
    "    print('Critical Values:')\n",
    "    for k, v in adfull[4].items():\n",
    "        print(f' {k}: {v}')"
   ]
  },
  {
   "cell_type": "code",
   "execution_count": 17,
   "id": "43b5bb19",
   "metadata": {},
   "outputs": [],
   "source": [
    "sys_adf_result = adfuller(daily_df['SysLoad'])\n",
    "gas_adf_result = adfuller(daily_df['GasPrice'])"
   ]
  },
  {
   "cell_type": "code",
   "execution_count": 18,
   "id": "901bbbee",
   "metadata": {},
   "outputs": [
    {
     "name": "stdout",
     "output_type": "stream",
     "text": [
      "ADF Statistic: -3.690158988836647\n",
      "p-value: 0.004253725504574104\n",
      "No. of lags used: 30\n",
      "No. of observations used : 3803\n",
      "Critical Values:\n",
      " 1%: -3.432070672988693\n",
      " 5%: -2.8623002987378547\n",
      " 10%: -2.567174716967499\n"
     ]
    }
   ],
   "source": [
    "show_adfuller(sys_adf_result)"
   ]
  },
  {
   "cell_type": "code",
   "execution_count": 19,
   "id": "86f7996f",
   "metadata": {},
   "outputs": [
    {
     "data": {
      "text/plain": [
       "0.004254"
      ]
     },
     "execution_count": 19,
     "metadata": {},
     "output_type": "execute_result"
    }
   ],
   "source": [
    "sys = sys_adf_result[1]\n",
    "round(sys,6)"
   ]
  },
  {
   "cell_type": "code",
   "execution_count": 20,
   "id": "89f1d2ea",
   "metadata": {},
   "outputs": [
    {
     "name": "stdout",
     "output_type": "stream",
     "text": [
      "ADF Statistic: -2.9027666971651813\n",
      "p-value: 0.045027212884625245\n",
      "No. of lags used: 27\n",
      "No. of observations used : 3806\n",
      "Critical Values:\n",
      " 1%: -3.4320693157877544\n",
      " 5%: -2.8622996992165364\n",
      " 10%: -2.5671743978048323\n"
     ]
    }
   ],
   "source": [
    "show_adfuller(gas_adf_result)"
   ]
  },
  {
   "cell_type": "code",
   "execution_count": 21,
   "id": "8bb5327c",
   "metadata": {},
   "outputs": [
    {
     "data": {
      "text/plain": [
       "0.045027"
      ]
     },
     "execution_count": 21,
     "metadata": {},
     "output_type": "execute_result"
    }
   ],
   "source": [
    "gas = gas_adf_result[1]\n",
    "round(gas,6)"
   ]
  },
  {
   "cell_type": "code",
   "execution_count": 22,
   "id": "6a139594",
   "metadata": {},
   "outputs": [
    {
     "name": "stdout",
     "output_type": "stream",
     "text": [
      "ADF Statistic: -8.26905386687381\n",
      "p-value: 4.848817773711457e-13\n",
      "No. of lags used: 20\n",
      "No. of observations used : 3813\n",
      "Critical Values:\n",
      " 1%: -3.432066157296446\n",
      " 5%: -2.8622983040036005\n",
      " 10%: -2.5671736550459663\n"
     ]
    }
   ],
   "source": [
    "elec_adf_result = adfuller(daily_df['ElecPrice'])\n",
    "show_adfuller(elec_adf_result)"
   ]
  },
  {
   "cell_type": "code",
   "execution_count": 23,
   "id": "ede3a37d",
   "metadata": {},
   "outputs": [
    {
     "data": {
      "text/plain": [
       "4.848817773711457e-13"
      ]
     },
     "execution_count": 23,
     "metadata": {},
     "output_type": "execute_result"
    }
   ],
   "source": [
    "c = elec_adf_result[1]\n",
    "c"
   ]
  },
  {
   "cell_type": "markdown",
   "id": "28f21256",
   "metadata": {},
   "source": [
    "# 13"
   ]
  },
  {
   "cell_type": "code",
   "execution_count": 24,
   "id": "b16d80fb",
   "metadata": {},
   "outputs": [
    {
     "data": {
      "text/plain": [
       "-2.8623"
      ]
     },
     "execution_count": 24,
     "metadata": {},
     "output_type": "execute_result"
    }
   ],
   "source": [
    "gas_critical_value = round(gas_adf_result[4][\"5%\"], 4)\n",
    "gas_critical_value"
   ]
  },
  {
   "cell_type": "code",
   "execution_count": 25,
   "id": "69ef34ab",
   "metadata": {},
   "outputs": [
    {
     "data": {
      "text/plain": [
       "-2.5672"
      ]
     },
     "execution_count": 25,
     "metadata": {},
     "output_type": "execute_result"
    }
   ],
   "source": [
    "elec_critical_value = round(elec_adf_result[4][\"10%\"], 4)\n",
    "elec_critical_value"
   ]
  },
  {
   "cell_type": "markdown",
   "id": "2f1c66cc",
   "metadata": {},
   "source": [
    "# 14"
   ]
  },
  {
   "cell_type": "code",
   "execution_count": 26,
   "id": "c592b4ba",
   "metadata": {},
   "outputs": [
    {
     "name": "stdout",
     "output_type": "stream",
     "text": [
      "train: (2757, 4)\n",
      "test: (1077, 4)\n"
     ]
    }
   ],
   "source": [
    "# data split to train and test \n",
    "X_train = daily_df.iloc[:2757]\n",
    "X_test = daily_df.iloc[2757:]\n",
    "print(f\"train: {X_train.shape}\")\n",
    "print(f\"test: {X_test.shape}\")"
   ]
  },
  {
   "cell_type": "code",
   "execution_count": 27,
   "id": "a4d9540f",
   "metadata": {},
   "outputs": [
    {
     "data": {
      "text/html": [
       "<div>\n",
       "<style scoped>\n",
       "    .dataframe tbody tr th:only-of-type {\n",
       "        vertical-align: middle;\n",
       "    }\n",
       "\n",
       "    .dataframe tbody tr th {\n",
       "        vertical-align: top;\n",
       "    }\n",
       "\n",
       "    .dataframe thead th {\n",
       "        text-align: right;\n",
       "    }\n",
       "</style>\n",
       "<table border=\"1\" class=\"dataframe\">\n",
       "  <thead>\n",
       "    <tr style=\"text-align: right;\">\n",
       "      <th></th>\n",
       "      <th>FullDate</th>\n",
       "      <th>Tmax</th>\n",
       "      <th>SysLoad</th>\n",
       "      <th>GasPrice</th>\n",
       "      <th>ElecPrice</th>\n",
       "    </tr>\n",
       "  </thead>\n",
       "  <tbody>\n",
       "    <tr>\n",
       "      <th>0</th>\n",
       "      <td>2010-09-01</td>\n",
       "      <td>379.2</td>\n",
       "      <td>41565.38</td>\n",
       "      <td>88.56</td>\n",
       "      <td>2751.7</td>\n",
       "    </tr>\n",
       "  </tbody>\n",
       "</table>\n",
       "</div>"
      ],
      "text/plain": [
       "    FullDate   Tmax   SysLoad  GasPrice  ElecPrice\n",
       "0 2010-09-01  379.2  41565.38     88.56     2751.7"
      ]
     },
     "execution_count": 27,
     "metadata": {},
     "output_type": "execute_result"
    }
   ],
   "source": [
    "X_train.reset_index(inplace = True)\n",
    "X_train.head(1)"
   ]
  },
  {
   "cell_type": "code",
   "execution_count": 28,
   "id": "dafb35ce",
   "metadata": {},
   "outputs": [
    {
     "data": {
      "text/html": [
       "<div>\n",
       "<style scoped>\n",
       "    .dataframe tbody tr th:only-of-type {\n",
       "        vertical-align: middle;\n",
       "    }\n",
       "\n",
       "    .dataframe tbody tr th {\n",
       "        vertical-align: top;\n",
       "    }\n",
       "\n",
       "    .dataframe thead th {\n",
       "        text-align: right;\n",
       "    }\n",
       "</style>\n",
       "<table border=\"1\" class=\"dataframe\">\n",
       "  <thead>\n",
       "    <tr style=\"text-align: right;\">\n",
       "      <th></th>\n",
       "      <th>FullDate</th>\n",
       "      <th>Tmax</th>\n",
       "      <th>SysLoad</th>\n",
       "      <th>GasPrice</th>\n",
       "      <th>ElecPrice</th>\n",
       "    </tr>\n",
       "  </thead>\n",
       "  <tbody>\n",
       "    <tr>\n",
       "      <th>0</th>\n",
       "      <td>2018-03-20</td>\n",
       "      <td>540.0</td>\n",
       "      <td>7696.9113</td>\n",
       "      <td>201.588</td>\n",
       "      <td>1833.0</td>\n",
       "    </tr>\n",
       "  </tbody>\n",
       "</table>\n",
       "</div>"
      ],
      "text/plain": [
       "    FullDate   Tmax    SysLoad  GasPrice  ElecPrice\n",
       "0 2018-03-20  540.0  7696.9113   201.588     1833.0"
      ]
     },
     "execution_count": 28,
     "metadata": {},
     "output_type": "execute_result"
    }
   ],
   "source": [
    "X_test.reset_index(inplace = True)\n",
    "X_test.head(1)"
   ]
  },
  {
   "cell_type": "code",
   "execution_count": 29,
   "id": "35ea74df",
   "metadata": {},
   "outputs": [],
   "source": [
    "X_train_1 = X_train.drop(columns=[\"Tmax\", \"SysLoad\", \"GasPrice\"], axis=1)\n",
    "X_train_1.rename(columns ={\"FullDate\": \"ds\", \"ElecPrice\": \"y\"}, inplace=True)"
   ]
  },
  {
   "cell_type": "code",
   "execution_count": 30,
   "id": "20b8c83f",
   "metadata": {},
   "outputs": [
    {
     "data": {
      "text/html": [
       "<div>\n",
       "<style scoped>\n",
       "    .dataframe tbody tr th:only-of-type {\n",
       "        vertical-align: middle;\n",
       "    }\n",
       "\n",
       "    .dataframe tbody tr th {\n",
       "        vertical-align: top;\n",
       "    }\n",
       "\n",
       "    .dataframe thead th {\n",
       "        text-align: right;\n",
       "    }\n",
       "</style>\n",
       "<table border=\"1\" class=\"dataframe\">\n",
       "  <thead>\n",
       "    <tr style=\"text-align: right;\">\n",
       "      <th></th>\n",
       "      <th>ds</th>\n",
       "      <th>y</th>\n",
       "    </tr>\n",
       "  </thead>\n",
       "  <tbody>\n",
       "    <tr>\n",
       "      <th>0</th>\n",
       "      <td>2010-09-01</td>\n",
       "      <td>2751.70</td>\n",
       "    </tr>\n",
       "    <tr>\n",
       "      <th>1</th>\n",
       "      <td>2010-09-02</td>\n",
       "      <td>570.81</td>\n",
       "    </tr>\n",
       "  </tbody>\n",
       "</table>\n",
       "</div>"
      ],
      "text/plain": [
       "          ds        y\n",
       "0 2010-09-01  2751.70\n",
       "1 2010-09-02   570.81"
      ]
     },
     "execution_count": 30,
     "metadata": {},
     "output_type": "execute_result"
    }
   ],
   "source": [
    "X_train_1.head(2)"
   ]
  },
  {
   "cell_type": "code",
   "execution_count": 31,
   "id": "2327af2d",
   "metadata": {},
   "outputs": [],
   "source": [
    "X_test_1 = X_test.drop(columns=[\"Tmax\", \"SysLoad\", \"GasPrice\"], axis=1)\n",
    "X_test_1.rename(columns ={\"FullDate\": \"ds\", \"ElecPrice\": \"y\"}, inplace=True)"
   ]
  },
  {
   "cell_type": "code",
   "execution_count": 32,
   "id": "edc1351c",
   "metadata": {},
   "outputs": [
    {
     "data": {
      "text/html": [
       "<div>\n",
       "<style scoped>\n",
       "    .dataframe tbody tr th:only-of-type {\n",
       "        vertical-align: middle;\n",
       "    }\n",
       "\n",
       "    .dataframe tbody tr th {\n",
       "        vertical-align: top;\n",
       "    }\n",
       "\n",
       "    .dataframe thead th {\n",
       "        text-align: right;\n",
       "    }\n",
       "</style>\n",
       "<table border=\"1\" class=\"dataframe\">\n",
       "  <thead>\n",
       "    <tr style=\"text-align: right;\">\n",
       "      <th></th>\n",
       "      <th>ds</th>\n",
       "      <th>y</th>\n",
       "    </tr>\n",
       "  </thead>\n",
       "  <tbody>\n",
       "    <tr>\n",
       "      <th>0</th>\n",
       "      <td>2018-03-20</td>\n",
       "      <td>1833.00</td>\n",
       "    </tr>\n",
       "    <tr>\n",
       "      <th>1</th>\n",
       "      <td>2018-03-21</td>\n",
       "      <td>1730.49</td>\n",
       "    </tr>\n",
       "  </tbody>\n",
       "</table>\n",
       "</div>"
      ],
      "text/plain": [
       "          ds        y\n",
       "0 2018-03-20  1833.00\n",
       "1 2018-03-21  1730.49"
      ]
     },
     "execution_count": 32,
     "metadata": {},
     "output_type": "execute_result"
    }
   ],
   "source": [
    "X_test_1.head(2)"
   ]
  },
  {
   "cell_type": "code",
   "execution_count": 33,
   "id": "6fd3c0a3",
   "metadata": {},
   "outputs": [
    {
     "name": "stderr",
     "output_type": "stream",
     "text": [
      "05:54:55 - cmdstanpy - INFO - Chain [1] start processing\n",
      "05:54:56 - cmdstanpy - INFO - Chain [1] done processing\n"
     ]
    },
    {
     "data": {
      "text/html": [
       "<div>\n",
       "<style scoped>\n",
       "    .dataframe tbody tr th:only-of-type {\n",
       "        vertical-align: middle;\n",
       "    }\n",
       "\n",
       "    .dataframe tbody tr th {\n",
       "        vertical-align: top;\n",
       "    }\n",
       "\n",
       "    .dataframe thead th {\n",
       "        text-align: right;\n",
       "    }\n",
       "</style>\n",
       "<table border=\"1\" class=\"dataframe\">\n",
       "  <thead>\n",
       "    <tr style=\"text-align: right;\">\n",
       "      <th></th>\n",
       "      <th>ds</th>\n",
       "      <th>trend</th>\n",
       "      <th>yhat_lower</th>\n",
       "      <th>yhat_upper</th>\n",
       "      <th>trend_lower</th>\n",
       "      <th>trend_upper</th>\n",
       "      <th>additive_terms</th>\n",
       "      <th>additive_terms_lower</th>\n",
       "      <th>additive_terms_upper</th>\n",
       "      <th>weekly</th>\n",
       "      <th>weekly_lower</th>\n",
       "      <th>weekly_upper</th>\n",
       "      <th>yearly</th>\n",
       "      <th>yearly_lower</th>\n",
       "      <th>yearly_upper</th>\n",
       "      <th>multiplicative_terms</th>\n",
       "      <th>multiplicative_terms_lower</th>\n",
       "      <th>multiplicative_terms_upper</th>\n",
       "      <th>yhat</th>\n",
       "    </tr>\n",
       "  </thead>\n",
       "  <tbody>\n",
       "    <tr>\n",
       "      <th>0</th>\n",
       "      <td>2018-03-20</td>\n",
       "      <td>2679.523236</td>\n",
       "      <td>185.347655</td>\n",
       "      <td>4917.226786</td>\n",
       "      <td>2679.523236</td>\n",
       "      <td>2679.523236</td>\n",
       "      <td>-154.882441</td>\n",
       "      <td>-154.882441</td>\n",
       "      <td>-154.882441</td>\n",
       "      <td>9.737801</td>\n",
       "      <td>9.737801</td>\n",
       "      <td>9.737801</td>\n",
       "      <td>-164.620241</td>\n",
       "      <td>-164.620241</td>\n",
       "      <td>-164.620241</td>\n",
       "      <td>0.0</td>\n",
       "      <td>0.0</td>\n",
       "      <td>0.0</td>\n",
       "      <td>2524.640796</td>\n",
       "    </tr>\n",
       "    <tr>\n",
       "      <th>1</th>\n",
       "      <td>2018-03-21</td>\n",
       "      <td>2680.298031</td>\n",
       "      <td>277.571871</td>\n",
       "      <td>5042.266562</td>\n",
       "      <td>2680.298031</td>\n",
       "      <td>2680.298031</td>\n",
       "      <td>-2.419802</td>\n",
       "      <td>-2.419802</td>\n",
       "      <td>-2.419802</td>\n",
       "      <td>159.363178</td>\n",
       "      <td>159.363178</td>\n",
       "      <td>159.363178</td>\n",
       "      <td>-161.782980</td>\n",
       "      <td>-161.782980</td>\n",
       "      <td>-161.782980</td>\n",
       "      <td>0.0</td>\n",
       "      <td>0.0</td>\n",
       "      <td>0.0</td>\n",
       "      <td>2677.878229</td>\n",
       "    </tr>\n",
       "    <tr>\n",
       "      <th>2</th>\n",
       "      <td>2018-03-22</td>\n",
       "      <td>2681.072826</td>\n",
       "      <td>435.816435</td>\n",
       "      <td>5190.543433</td>\n",
       "      <td>2681.072826</td>\n",
       "      <td>2681.072826</td>\n",
       "      <td>95.746291</td>\n",
       "      <td>95.746291</td>\n",
       "      <td>95.746291</td>\n",
       "      <td>257.127937</td>\n",
       "      <td>257.127937</td>\n",
       "      <td>257.127937</td>\n",
       "      <td>-161.381646</td>\n",
       "      <td>-161.381646</td>\n",
       "      <td>-161.381646</td>\n",
       "      <td>0.0</td>\n",
       "      <td>0.0</td>\n",
       "      <td>0.0</td>\n",
       "      <td>2776.819117</td>\n",
       "    </tr>\n",
       "    <tr>\n",
       "      <th>3</th>\n",
       "      <td>2018-03-23</td>\n",
       "      <td>2681.847620</td>\n",
       "      <td>-9.449901</td>\n",
       "      <td>4881.243828</td>\n",
       "      <td>2681.847620</td>\n",
       "      <td>2681.847620</td>\n",
       "      <td>-112.972998</td>\n",
       "      <td>-112.972998</td>\n",
       "      <td>-112.972998</td>\n",
       "      <td>50.277336</td>\n",
       "      <td>50.277336</td>\n",
       "      <td>50.277336</td>\n",
       "      <td>-163.250334</td>\n",
       "      <td>-163.250334</td>\n",
       "      <td>-163.250334</td>\n",
       "      <td>0.0</td>\n",
       "      <td>0.0</td>\n",
       "      <td>0.0</td>\n",
       "      <td>2568.874622</td>\n",
       "    </tr>\n",
       "    <tr>\n",
       "      <th>4</th>\n",
       "      <td>2018-03-24</td>\n",
       "      <td>2682.622415</td>\n",
       "      <td>-65.091118</td>\n",
       "      <td>4607.509807</td>\n",
       "      <td>2682.622415</td>\n",
       "      <td>2682.622415</td>\n",
       "      <td>-438.612511</td>\n",
       "      <td>-438.612511</td>\n",
       "      <td>-438.612511</td>\n",
       "      <td>-271.465795</td>\n",
       "      <td>-271.465795</td>\n",
       "      <td>-271.465795</td>\n",
       "      <td>-167.146716</td>\n",
       "      <td>-167.146716</td>\n",
       "      <td>-167.146716</td>\n",
       "      <td>0.0</td>\n",
       "      <td>0.0</td>\n",
       "      <td>0.0</td>\n",
       "      <td>2244.009904</td>\n",
       "    </tr>\n",
       "  </tbody>\n",
       "</table>\n",
       "</div>"
      ],
      "text/plain": [
       "          ds        trend  yhat_lower   yhat_upper  trend_lower  trend_upper  \\\n",
       "0 2018-03-20  2679.523236  185.347655  4917.226786  2679.523236  2679.523236   \n",
       "1 2018-03-21  2680.298031  277.571871  5042.266562  2680.298031  2680.298031   \n",
       "2 2018-03-22  2681.072826  435.816435  5190.543433  2681.072826  2681.072826   \n",
       "3 2018-03-23  2681.847620   -9.449901  4881.243828  2681.847620  2681.847620   \n",
       "4 2018-03-24  2682.622415  -65.091118  4607.509807  2682.622415  2682.622415   \n",
       "\n",
       "   additive_terms  additive_terms_lower  additive_terms_upper      weekly  \\\n",
       "0     -154.882441           -154.882441           -154.882441    9.737801   \n",
       "1       -2.419802             -2.419802             -2.419802  159.363178   \n",
       "2       95.746291             95.746291             95.746291  257.127937   \n",
       "3     -112.972998           -112.972998           -112.972998   50.277336   \n",
       "4     -438.612511           -438.612511           -438.612511 -271.465795   \n",
       "\n",
       "   weekly_lower  weekly_upper      yearly  yearly_lower  yearly_upper  \\\n",
       "0      9.737801      9.737801 -164.620241   -164.620241   -164.620241   \n",
       "1    159.363178    159.363178 -161.782980   -161.782980   -161.782980   \n",
       "2    257.127937    257.127937 -161.381646   -161.381646   -161.381646   \n",
       "3     50.277336     50.277336 -163.250334   -163.250334   -163.250334   \n",
       "4   -271.465795   -271.465795 -167.146716   -167.146716   -167.146716   \n",
       "\n",
       "   multiplicative_terms  multiplicative_terms_lower  \\\n",
       "0                   0.0                         0.0   \n",
       "1                   0.0                         0.0   \n",
       "2                   0.0                         0.0   \n",
       "3                   0.0                         0.0   \n",
       "4                   0.0                         0.0   \n",
       "\n",
       "   multiplicative_terms_upper         yhat  \n",
       "0                         0.0  2524.640796  \n",
       "1                         0.0  2677.878229  \n",
       "2                         0.0  2776.819117  \n",
       "3                         0.0  2568.874622  \n",
       "4                         0.0  2244.009904  "
      ]
     },
     "execution_count": 33,
     "metadata": {},
     "output_type": "execute_result"
    }
   ],
   "source": [
    "model = Prophet()\n",
    "model.fit(X_train_1)\n",
    "\n",
    "forecast_val = model.predict(X_test_1) \n",
    "forecast_val.head()"
   ]
  },
  {
   "cell_type": "code",
   "execution_count": 34,
   "id": "bdfbbb9e",
   "metadata": {},
   "outputs": [],
   "source": [
    "def Metrics(y_true,y_pred):\n",
    "    y_true,y_pred = np.array(y_true), np.array(y_pred)\n",
    "    return np.mean(np.abs((y_true - y_pred)/y_true)) *100"
   ]
  },
  {
   "cell_type": "code",
   "execution_count": 35,
   "id": "bb7dbd3c",
   "metadata": {},
   "outputs": [
    {
     "name": "stdout",
     "output_type": "stream",
     "text": [
      "mean absolute percentage error: 540.8215054992064\n"
     ]
    }
   ],
   "source": [
    "print(\"mean absolute percentage error:\", Metrics(X_test_1[\"y\"], forecast_val['yhat']))"
   ]
  },
  {
   "cell_type": "code",
   "execution_count": 36,
   "id": "561f5cee",
   "metadata": {},
   "outputs": [
    {
     "name": "stdout",
     "output_type": "stream",
     "text": [
      "mean absolute percentage error is :  3200.06\n"
     ]
    }
   ],
   "source": [
    "rmse = np.sqrt(metrics.mean_squared_error(X_test_1['y'],forecast_val['yhat']))\n",
    "print(\"mean absolute percentage error is : \", round(rmse,2))"
   ]
  },
  {
   "cell_type": "code",
   "execution_count": 37,
   "id": "d4a10e31",
   "metadata": {},
   "outputs": [
    {
     "data": {
      "image/png": "[encoded data removed]",
      "text/plain": [
       "<Figure size 648x648 with 3 Axes>"
      ]
     },
     "execution_count": 37,
     "metadata": {},
     "output_type": "execute_result"
    },
    {
     "data": {
      "image/png": "[encoded data removed]",
      "text/plain": [
       "<Figure size 648x648 with 3 Axes>"
      ]
     },
     "metadata": {},
     "output_type": "display_data"
    }
   ],
   "source": [
    "model.plot_components(forecast_val)"
   ]
  },
  {
   "cell_type": "code",
   "execution_count": 38,
   "id": "afee380b",
   "metadata": {},
   "outputs": [],
   "source": [
    "data_copy.reset_index(inplace=True)"
   ]
  },
  {
   "cell_type": "code",
   "execution_count": 39,
   "id": "2ba1e654",
   "metadata": {},
   "outputs": [
    {
     "data": {
      "text/html": [
       "<div>\n",
       "<style scoped>\n",
       "    .dataframe tbody tr th:only-of-type {\n",
       "        vertical-align: middle;\n",
       "    }\n",
       "\n",
       "    .dataframe tbody tr th {\n",
       "        vertical-align: top;\n",
       "    }\n",
       "\n",
       "    .dataframe thead th {\n",
       "        text-align: right;\n",
       "    }\n",
       "</style>\n",
       "<table border=\"1\" class=\"dataframe\">\n",
       "  <thead>\n",
       "    <tr style=\"text-align: right;\">\n",
       "      <th></th>\n",
       "      <th>ds</th>\n",
       "      <th>add2</th>\n",
       "      <th>add1</th>\n",
       "      <th>add3</th>\n",
       "      <th>y</th>\n",
       "    </tr>\n",
       "  </thead>\n",
       "  <tbody>\n",
       "    <tr>\n",
       "      <th>0</th>\n",
       "      <td>2010-09-01 00:00:00</td>\n",
       "      <td>15.8</td>\n",
       "      <td>1688.215</td>\n",
       "      <td>3.69</td>\n",
       "      <td>23.710</td>\n",
       "    </tr>\n",
       "    <tr>\n",
       "      <th>1</th>\n",
       "      <td>2010-09-01 01:00:00</td>\n",
       "      <td>15.8</td>\n",
       "      <td>1669.195</td>\n",
       "      <td>3.69</td>\n",
       "      <td>22.635</td>\n",
       "    </tr>\n",
       "    <tr>\n",
       "      <th>2</th>\n",
       "      <td>2010-09-01 02:00:00</td>\n",
       "      <td>15.8</td>\n",
       "      <td>1491.980</td>\n",
       "      <td>3.69</td>\n",
       "      <td>22.565</td>\n",
       "    </tr>\n",
       "    <tr>\n",
       "      <th>3</th>\n",
       "      <td>2010-09-01 03:00:00</td>\n",
       "      <td>15.8</td>\n",
       "      <td>1330.760</td>\n",
       "      <td>3.69</td>\n",
       "      <td>18.910</td>\n",
       "    </tr>\n",
       "    <tr>\n",
       "      <th>4</th>\n",
       "      <td>2010-09-01 04:00:00</td>\n",
       "      <td>15.8</td>\n",
       "      <td>1247.940</td>\n",
       "      <td>3.69</td>\n",
       "      <td>18.030</td>\n",
       "    </tr>\n",
       "  </tbody>\n",
       "</table>\n",
       "</div>"
      ],
      "text/plain": [
       "                   ds  add2      add1  add3       y\n",
       "0 2010-09-01 00:00:00  15.8  1688.215  3.69  23.710\n",
       "1 2010-09-01 01:00:00  15.8  1669.195  3.69  22.635\n",
       "2 2010-09-01 02:00:00  15.8  1491.980  3.69  22.565\n",
       "3 2010-09-01 03:00:00  15.8  1330.760  3.69  18.910\n",
       "4 2010-09-01 04:00:00  15.8  1247.940  3.69  18.030"
      ]
     },
     "execution_count": 39,
     "metadata": {},
     "output_type": "execute_result"
    }
   ],
   "source": [
    "##Setting the regression and prediction features for training\n",
    "data_copy_new = data_copy.rename(columns = {'FullDate':'ds','Tmax':'add2',\n",
    "                                           'SysLoad':'add1','GasPrice':'add3','ElecPrice':'y'})\n",
    "data_copy_new.head() "
   ]
  },
  {
   "cell_type": "code",
   "execution_count": 40,
   "id": "d2ae7c44",
   "metadata": {},
   "outputs": [
    {
     "data": {
      "text/plain": [
       "<prophet.forecaster.Prophet at 0x1ba8d49e6a0>"
      ]
     },
     "execution_count": 40,
     "metadata": {},
     "output_type": "execute_result"
    }
   ],
   "source": [
    "X_train_new = data_copy_new.iloc[:2757,:]\n",
    "X_test_new = data_copy_new.iloc[2757:,:]\n",
    "\n",
    "model_new = Prophet()\n",
    "\n",
    "model_new.add_regressor('add1')\n",
    "model_new.add_regressor('add2')\n",
    "model_new.add_regressor('add3')"
   ]
  },
  {
   "cell_type": "code",
   "execution_count": 41,
   "id": "4bc5243f",
   "metadata": {},
   "outputs": [
    {
     "name": "stderr",
     "output_type": "stream",
     "text": [
      "05:56:10 - cmdstanpy - INFO - Chain [1] start processing\n",
      "05:56:10 - cmdstanpy - INFO - Chain [1] done processing\n"
     ]
    },
    {
     "data": {
      "text/plain": [
       "<prophet.forecaster.Prophet at 0x1ba8d49e6a0>"
      ]
     },
     "execution_count": 41,
     "metadata": {},
     "output_type": "execute_result"
    }
   ],
   "source": [
    "model_new.fit(X_train_new)"
   ]
  },
  {
   "cell_type": "code",
   "execution_count": 42,
   "id": "134a4af2",
   "metadata": {},
   "outputs": [
    {
     "data": {
      "text/html": [
       "<div>\n",
       "<style scoped>\n",
       "    .dataframe tbody tr th:only-of-type {\n",
       "        vertical-align: middle;\n",
       "    }\n",
       "\n",
       "    .dataframe tbody tr th {\n",
       "        vertical-align: top;\n",
       "    }\n",
       "\n",
       "    .dataframe thead th {\n",
       "        text-align: right;\n",
       "    }\n",
       "</style>\n",
       "<table border=\"1\" class=\"dataframe\">\n",
       "  <thead>\n",
       "    <tr style=\"text-align: right;\">\n",
       "      <th></th>\n",
       "      <th>ds</th>\n",
       "      <th>trend</th>\n",
       "      <th>yhat_lower</th>\n",
       "      <th>yhat_upper</th>\n",
       "      <th>trend_lower</th>\n",
       "      <th>trend_upper</th>\n",
       "      <th>add1</th>\n",
       "      <th>add1_lower</th>\n",
       "      <th>add1_upper</th>\n",
       "      <th>add2</th>\n",
       "      <th>...</th>\n",
       "      <th>extra_regressors_additive</th>\n",
       "      <th>extra_regressors_additive_lower</th>\n",
       "      <th>extra_regressors_additive_upper</th>\n",
       "      <th>weekly</th>\n",
       "      <th>weekly_lower</th>\n",
       "      <th>weekly_upper</th>\n",
       "      <th>multiplicative_terms</th>\n",
       "      <th>multiplicative_terms_lower</th>\n",
       "      <th>multiplicative_terms_upper</th>\n",
       "      <th>yhat</th>\n",
       "    </tr>\n",
       "  </thead>\n",
       "  <tbody>\n",
       "    <tr>\n",
       "      <th>0</th>\n",
       "      <td>2010-12-24 21:00:00</td>\n",
       "      <td>35.914149</td>\n",
       "      <td>-77.687686</td>\n",
       "      <td>163.469978</td>\n",
       "      <td>35.914149</td>\n",
       "      <td>35.914149</td>\n",
       "      <td>3.807263</td>\n",
       "      <td>3.807263</td>\n",
       "      <td>3.807263</td>\n",
       "      <td>-0.656154</td>\n",
       "      <td>...</td>\n",
       "      <td>3.363668</td>\n",
       "      <td>3.363668</td>\n",
       "      <td>3.363668</td>\n",
       "      <td>2.729201</td>\n",
       "      <td>2.729201</td>\n",
       "      <td>2.729201</td>\n",
       "      <td>0.0</td>\n",
       "      <td>0.0</td>\n",
       "      <td>0.0</td>\n",
       "      <td>36.136267</td>\n",
       "    </tr>\n",
       "    <tr>\n",
       "      <th>1</th>\n",
       "      <td>2010-12-24 22:00:00</td>\n",
       "      <td>35.941280</td>\n",
       "      <td>-89.841909</td>\n",
       "      <td>161.898159</td>\n",
       "      <td>35.941280</td>\n",
       "      <td>35.941280</td>\n",
       "      <td>-2.297716</td>\n",
       "      <td>-2.297716</td>\n",
       "      <td>-2.297716</td>\n",
       "      <td>-0.656154</td>\n",
       "      <td>...</td>\n",
       "      <td>-2.741311</td>\n",
       "      <td>-2.741311</td>\n",
       "      <td>-2.741311</td>\n",
       "      <td>3.031334</td>\n",
       "      <td>3.031334</td>\n",
       "      <td>3.031334</td>\n",
       "      <td>0.0</td>\n",
       "      <td>0.0</td>\n",
       "      <td>0.0</td>\n",
       "      <td>32.058325</td>\n",
       "    </tr>\n",
       "    <tr>\n",
       "      <th>2</th>\n",
       "      <td>2010-12-24 23:00:00</td>\n",
       "      <td>35.968412</td>\n",
       "      <td>-92.872461</td>\n",
       "      <td>153.522184</td>\n",
       "      <td>35.968412</td>\n",
       "      <td>35.968412</td>\n",
       "      <td>-9.573878</td>\n",
       "      <td>-9.573878</td>\n",
       "      <td>-9.573878</td>\n",
       "      <td>-0.656154</td>\n",
       "      <td>...</td>\n",
       "      <td>-10.017473</td>\n",
       "      <td>-10.017473</td>\n",
       "      <td>-10.017473</td>\n",
       "      <td>3.262845</td>\n",
       "      <td>3.262845</td>\n",
       "      <td>3.262845</td>\n",
       "      <td>0.0</td>\n",
       "      <td>0.0</td>\n",
       "      <td>0.0</td>\n",
       "      <td>28.371264</td>\n",
       "    </tr>\n",
       "    <tr>\n",
       "      <th>3</th>\n",
       "      <td>2010-12-25 00:00:00</td>\n",
       "      <td>35.995543</td>\n",
       "      <td>-88.822891</td>\n",
       "      <td>165.476166</td>\n",
       "      <td>35.995543</td>\n",
       "      <td>35.995543</td>\n",
       "      <td>-8.380160</td>\n",
       "      <td>-8.380160</td>\n",
       "      <td>-8.380160</td>\n",
       "      <td>-0.564372</td>\n",
       "      <td>...</td>\n",
       "      <td>-8.731973</td>\n",
       "      <td>-8.731973</td>\n",
       "      <td>-8.731973</td>\n",
       "      <td>3.421047</td>\n",
       "      <td>3.421047</td>\n",
       "      <td>3.421047</td>\n",
       "      <td>0.0</td>\n",
       "      <td>0.0</td>\n",
       "      <td>0.0</td>\n",
       "      <td>31.823028</td>\n",
       "    </tr>\n",
       "    <tr>\n",
       "      <th>4</th>\n",
       "      <td>2010-12-25 01:00:00</td>\n",
       "      <td>36.022674</td>\n",
       "      <td>-95.170786</td>\n",
       "      <td>153.772181</td>\n",
       "      <td>36.022674</td>\n",
       "      <td>36.022674</td>\n",
       "      <td>-6.963217</td>\n",
       "      <td>-6.963217</td>\n",
       "      <td>-6.963217</td>\n",
       "      <td>-0.564372</td>\n",
       "      <td>...</td>\n",
       "      <td>-7.315030</td>\n",
       "      <td>-7.315030</td>\n",
       "      <td>-7.315030</td>\n",
       "      <td>3.504228</td>\n",
       "      <td>3.504228</td>\n",
       "      <td>3.504228</td>\n",
       "      <td>0.0</td>\n",
       "      <td>0.0</td>\n",
       "      <td>0.0</td>\n",
       "      <td>32.961436</td>\n",
       "    </tr>\n",
       "  </tbody>\n",
       "</table>\n",
       "<p>5 rows × 31 columns</p>\n",
       "</div>"
      ],
      "text/plain": [
       "                   ds      trend  yhat_lower  yhat_upper  trend_lower  \\\n",
       "0 2010-12-24 21:00:00  35.914149  -77.687686  163.469978    35.914149   \n",
       "1 2010-12-24 22:00:00  35.941280  -89.841909  161.898159    35.941280   \n",
       "2 2010-12-24 23:00:00  35.968412  -92.872461  153.522184    35.968412   \n",
       "3 2010-12-25 00:00:00  35.995543  -88.822891  165.476166    35.995543   \n",
       "4 2010-12-25 01:00:00  36.022674  -95.170786  153.772181    36.022674   \n",
       "\n",
       "   trend_upper      add1  add1_lower  add1_upper      add2  ...  \\\n",
       "0    35.914149  3.807263    3.807263    3.807263 -0.656154  ...   \n",
       "1    35.941280 -2.297716   -2.297716   -2.297716 -0.656154  ...   \n",
       "2    35.968412 -9.573878   -9.573878   -9.573878 -0.656154  ...   \n",
       "3    35.995543 -8.380160   -8.380160   -8.380160 -0.564372  ...   \n",
       "4    36.022674 -6.963217   -6.963217   -6.963217 -0.564372  ...   \n",
       "\n",
       "   extra_regressors_additive  extra_regressors_additive_lower  \\\n",
       "0                   3.363668                         3.363668   \n",
       "1                  -2.741311                        -2.741311   \n",
       "2                 -10.017473                       -10.017473   \n",
       "3                  -8.731973                        -8.731973   \n",
       "4                  -7.315030                        -7.315030   \n",
       "\n",
       "   extra_regressors_additive_upper    weekly  weekly_lower  weekly_upper  \\\n",
       "0                         3.363668  2.729201      2.729201      2.729201   \n",
       "1                        -2.741311  3.031334      3.031334      3.031334   \n",
       "2                       -10.017473  3.262845      3.262845      3.262845   \n",
       "3                        -8.731973  3.421047      3.421047      3.421047   \n",
       "4                        -7.315030  3.504228      3.504228      3.504228   \n",
       "\n",
       "   multiplicative_terms  multiplicative_terms_lower  \\\n",
       "0                   0.0                         0.0   \n",
       "1                   0.0                         0.0   \n",
       "2                   0.0                         0.0   \n",
       "3                   0.0                         0.0   \n",
       "4                   0.0                         0.0   \n",
       "\n",
       "   multiplicative_terms_upper       yhat  \n",
       "0                         0.0  36.136267  \n",
       "1                         0.0  32.058325  \n",
       "2                         0.0  28.371264  \n",
       "3                         0.0  31.823028  \n",
       "4                         0.0  32.961436  \n",
       "\n",
       "[5 rows x 31 columns]"
      ]
     },
     "execution_count": 42,
     "metadata": {},
     "output_type": "execute_result"
    }
   ],
   "source": [
    "forecast_values_new = model_new.predict(X_test_new) \n",
    "forecast_values_new.head()"
   ]
  },
  {
   "cell_type": "code",
   "execution_count": 43,
   "id": "4c2a7c99",
   "metadata": {},
   "outputs": [
    {
     "data": {
      "text/plain": [
       "(89259, 31)"
      ]
     },
     "execution_count": 43,
     "metadata": {},
     "output_type": "execute_result"
    }
   ],
   "source": [
    "forecast_values_new.shape"
   ]
  },
  {
   "cell_type": "code",
   "execution_count": 47,
   "id": "3788e99c",
   "metadata": {},
   "outputs": [
    {
     "name": "stdout",
     "output_type": "stream",
     "text": [
      "mean absolute percentage error is :  inf\n"
     ]
    },
    {
     "name": "stderr",
     "output_type": "stream",
     "text": [
      "C:\\Users\\AKINDI~1\\AppData\\Local\\Temp/ipykernel_22204/2875919816.py:3: RuntimeWarning: divide by zero encountered in divide\n",
      "  return np.mean(np.abs((y_true - y_pred)/y_true)) *100\n"
     ]
    }
   ],
   "source": [
    "mape_new = Metrics(X_test_new['y'],forecast_values_new['yhat'])\n",
    "print(\"mean absolute percentage error is : \", round(mape_new,2))"
   ]
  },
  {
   "cell_type": "code",
   "execution_count": 48,
   "id": "89ed4f65",
   "metadata": {},
   "outputs": [
    {
     "name": "stdout",
     "output_type": "stream",
     "text": [
      "mean absolute percentage error is :  1372.81\n"
     ]
    }
   ],
   "source": [
    "rmse_new = np.sqrt(metrics.mean_squared_error(X_test_new['y'],forecast_values_new['yhat']))\n",
    "print(\"mean absolute percentage error is : \", round(rmse_new,2))"
   ]
  },
  {
   "cell_type": "code",
   "execution_count": 49,
   "id": "6f4dc463",
   "metadata": {},
   "outputs": [
    {
     "data": {
      "image/png": "[encoded data removed]",
      "text/plain": [
       "<Figure size 648x432 with 2 Axes>"
      ]
     },
     "execution_count": 49,
     "metadata": {},
     "output_type": "execute_result"
    },
    {
     "data": {
      "image/png": "[encoded data removed]",
      "text/plain": [
       "<Figure size 648x432 with 2 Axes>"
      ]
     },
     "metadata": {},
     "output_type": "display_data"
    }
   ],
   "source": [
    "model.plot_components(forecast_values_new)"
   ]
  },
  {
   "cell_type": "code",
   "execution_count": null,
   "id": "edcaca69",
   "metadata": {},
   "outputs": [],
   "source": []
  }
 ],
 "metadata": {
  "kernelspec": {
   "display_name": "Python 3 (ipykernel)",
   "language": "python",
   "name": "python3"
  },
  "language_info": {
   "codemirror_mode": {
    "name": "ipython",
    "version": 3
   },
   "file_extension": ".py",
   "mimetype": "text/x-python",
   "name": "python",
   "nbconvert_exporter": "python",
   "pygments_lexer": "ipython3",
   "version": "3.9.7"
  }
 },
 "nbformat": 4,
 "nbformat_minor": 5
}
